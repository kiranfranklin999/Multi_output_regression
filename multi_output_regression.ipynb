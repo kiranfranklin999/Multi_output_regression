{
 "cells": [
  {
   "cell_type": "code",
   "execution_count": 1,
   "metadata": {},
   "outputs": [
    {
     "name": "stdout",
     "output_type": "stream",
     "text": [
      "(1000, 10) (1000, 2)\n"
     ]
    }
   ],
   "source": [
    "# example of multioutput regression test problem\n",
    "from sklearn.datasets import make_regression\n",
    "# create datasets\n",
    "X, y = make_regression(n_samples=1000, n_features=10, n_informative=5, n_targets=2, random_state=1, noise=0.5)\n",
    "# summarize dataset\n",
    "print(X.shape, y.shape)"
   ]
  },
  {
   "cell_type": "code",
   "execution_count": 3,
   "metadata": {},
   "outputs": [
    {
     "data": {
      "text/html": [
       "<div>\n",
       "<style scoped>\n",
       "    .dataframe tbody tr th:only-of-type {\n",
       "        vertical-align: middle;\n",
       "    }\n",
       "\n",
       "    .dataframe tbody tr th {\n",
       "        vertical-align: top;\n",
       "    }\n",
       "\n",
       "    .dataframe thead th {\n",
       "        text-align: right;\n",
       "    }\n",
       "</style>\n",
       "<table border=\"1\" class=\"dataframe\">\n",
       "  <thead>\n",
       "    <tr style=\"text-align: right;\">\n",
       "      <th></th>\n",
       "      <th>0</th>\n",
       "      <th>1</th>\n",
       "      <th>2</th>\n",
       "      <th>3</th>\n",
       "      <th>4</th>\n",
       "      <th>5</th>\n",
       "      <th>6</th>\n",
       "      <th>7</th>\n",
       "      <th>8</th>\n",
       "      <th>9</th>\n",
       "    </tr>\n",
       "  </thead>\n",
       "  <tbody>\n",
       "    <tr>\n",
       "      <th>0</th>\n",
       "      <td>0.219477</td>\n",
       "      <td>0.329490</td>\n",
       "      <td>0.815600</td>\n",
       "      <td>0.440956</td>\n",
       "      <td>-0.060630</td>\n",
       "      <td>-0.292579</td>\n",
       "      <td>-0.282006</td>\n",
       "      <td>-0.002905</td>\n",
       "      <td>0.964023</td>\n",
       "      <td>0.049922</td>\n",
       "    </tr>\n",
       "    <tr>\n",
       "      <th>1</th>\n",
       "      <td>0.843369</td>\n",
       "      <td>0.564675</td>\n",
       "      <td>0.328040</td>\n",
       "      <td>-0.199352</td>\n",
       "      <td>-1.354650</td>\n",
       "      <td>-0.029456</td>\n",
       "      <td>-0.647895</td>\n",
       "      <td>0.055339</td>\n",
       "      <td>0.136536</td>\n",
       "      <td>0.630311</td>\n",
       "    </tr>\n",
       "    <tr>\n",
       "      <th>2</th>\n",
       "      <td>-1.044998</td>\n",
       "      <td>-0.883771</td>\n",
       "      <td>0.767113</td>\n",
       "      <td>1.616794</td>\n",
       "      <td>-1.105432</td>\n",
       "      <td>0.298835</td>\n",
       "      <td>-1.693349</td>\n",
       "      <td>0.482598</td>\n",
       "      <td>0.420755</td>\n",
       "      <td>1.638889</td>\n",
       "    </tr>\n",
       "    <tr>\n",
       "      <th>3</th>\n",
       "      <td>-0.091764</td>\n",
       "      <td>-0.769384</td>\n",
       "      <td>1.202059</td>\n",
       "      <td>-1.251391</td>\n",
       "      <td>-0.013095</td>\n",
       "      <td>-0.254311</td>\n",
       "      <td>-1.271874</td>\n",
       "      <td>1.083952</td>\n",
       "      <td>-0.594676</td>\n",
       "      <td>1.040153</td>\n",
       "    </tr>\n",
       "    <tr>\n",
       "      <th>4</th>\n",
       "      <td>-0.166486</td>\n",
       "      <td>-1.039182</td>\n",
       "      <td>-1.898812</td>\n",
       "      <td>0.838635</td>\n",
       "      <td>1.071252</td>\n",
       "      <td>0.733023</td>\n",
       "      <td>-1.117111</td>\n",
       "      <td>0.984952</td>\n",
       "      <td>-1.097154</td>\n",
       "      <td>-0.508972</td>\n",
       "    </tr>\n",
       "    <tr>\n",
       "      <th>...</th>\n",
       "      <td>...</td>\n",
       "      <td>...</td>\n",
       "      <td>...</td>\n",
       "      <td>...</td>\n",
       "      <td>...</td>\n",
       "      <td>...</td>\n",
       "      <td>...</td>\n",
       "      <td>...</td>\n",
       "      <td>...</td>\n",
       "      <td>...</td>\n",
       "    </tr>\n",
       "    <tr>\n",
       "      <th>995</th>\n",
       "      <td>1.376503</td>\n",
       "      <td>0.204160</td>\n",
       "      <td>-0.258589</td>\n",
       "      <td>-0.393081</td>\n",
       "      <td>-0.642044</td>\n",
       "      <td>0.534805</td>\n",
       "      <td>-0.694732</td>\n",
       "      <td>1.605953</td>\n",
       "      <td>-0.367468</td>\n",
       "      <td>0.040235</td>\n",
       "    </tr>\n",
       "    <tr>\n",
       "      <th>996</th>\n",
       "      <td>-0.196810</td>\n",
       "      <td>-1.127430</td>\n",
       "      <td>-1.221542</td>\n",
       "      <td>-0.494713</td>\n",
       "      <td>-1.049821</td>\n",
       "      <td>0.091312</td>\n",
       "      <td>0.685183</td>\n",
       "      <td>-1.543406</td>\n",
       "      <td>-0.849149</td>\n",
       "      <td>-0.824043</td>\n",
       "    </tr>\n",
       "    <tr>\n",
       "      <th>997</th>\n",
       "      <td>1.055336</td>\n",
       "      <td>0.693456</td>\n",
       "      <td>-0.040289</td>\n",
       "      <td>-0.278880</td>\n",
       "      <td>-1.254537</td>\n",
       "      <td>-0.131957</td>\n",
       "      <td>0.033678</td>\n",
       "      <td>1.775566</td>\n",
       "      <td>0.786216</td>\n",
       "      <td>1.406868</td>\n",
       "    </tr>\n",
       "    <tr>\n",
       "      <th>998</th>\n",
       "      <td>-1.213338</td>\n",
       "      <td>-0.379518</td>\n",
       "      <td>0.435986</td>\n",
       "      <td>-0.600225</td>\n",
       "      <td>0.725917</td>\n",
       "      <td>-1.014804</td>\n",
       "      <td>-0.687487</td>\n",
       "      <td>0.966221</td>\n",
       "      <td>3.321079</td>\n",
       "      <td>-2.698362</td>\n",
       "    </tr>\n",
       "    <tr>\n",
       "      <th>999</th>\n",
       "      <td>-0.813515</td>\n",
       "      <td>-1.025282</td>\n",
       "      <td>0.701965</td>\n",
       "      <td>2.258917</td>\n",
       "      <td>0.507807</td>\n",
       "      <td>-0.014325</td>\n",
       "      <td>0.813061</td>\n",
       "      <td>-0.274047</td>\n",
       "      <td>0.856770</td>\n",
       "      <td>1.860006</td>\n",
       "    </tr>\n",
       "  </tbody>\n",
       "</table>\n",
       "<p>1000 rows × 10 columns</p>\n",
       "</div>"
      ],
      "text/plain": [
       "            0         1         2         3         4         5         6   \n",
       "0    0.219477  0.329490  0.815600  0.440956 -0.060630 -0.292579 -0.282006  \\\n",
       "1    0.843369  0.564675  0.328040 -0.199352 -1.354650 -0.029456 -0.647895   \n",
       "2   -1.044998 -0.883771  0.767113  1.616794 -1.105432  0.298835 -1.693349   \n",
       "3   -0.091764 -0.769384  1.202059 -1.251391 -0.013095 -0.254311 -1.271874   \n",
       "4   -0.166486 -1.039182 -1.898812  0.838635  1.071252  0.733023 -1.117111   \n",
       "..        ...       ...       ...       ...       ...       ...       ...   \n",
       "995  1.376503  0.204160 -0.258589 -0.393081 -0.642044  0.534805 -0.694732   \n",
       "996 -0.196810 -1.127430 -1.221542 -0.494713 -1.049821  0.091312  0.685183   \n",
       "997  1.055336  0.693456 -0.040289 -0.278880 -1.254537 -0.131957  0.033678   \n",
       "998 -1.213338 -0.379518  0.435986 -0.600225  0.725917 -1.014804 -0.687487   \n",
       "999 -0.813515 -1.025282  0.701965  2.258917  0.507807 -0.014325  0.813061   \n",
       "\n",
       "            7         8         9  \n",
       "0   -0.002905  0.964023  0.049922  \n",
       "1    0.055339  0.136536  0.630311  \n",
       "2    0.482598  0.420755  1.638889  \n",
       "3    1.083952 -0.594676  1.040153  \n",
       "4    0.984952 -1.097154 -0.508972  \n",
       "..        ...       ...       ...  \n",
       "995  1.605953 -0.367468  0.040235  \n",
       "996 -1.543406 -0.849149 -0.824043  \n",
       "997  1.775566  0.786216  1.406868  \n",
       "998  0.966221  3.321079 -2.698362  \n",
       "999 -0.274047  0.856770  1.860006  \n",
       "\n",
       "[1000 rows x 10 columns]"
      ]
     },
     "execution_count": 3,
     "metadata": {},
     "output_type": "execute_result"
    }
   ],
   "source": [
    "import pandas as pd\n",
    "pd.DataFrame(X)"
   ]
  },
  {
   "cell_type": "code",
   "execution_count": 4,
   "metadata": {},
   "outputs": [
    {
     "data": {
      "text/html": [
       "<div>\n",
       "<style scoped>\n",
       "    .dataframe tbody tr th:only-of-type {\n",
       "        vertical-align: middle;\n",
       "    }\n",
       "\n",
       "    .dataframe tbody tr th {\n",
       "        vertical-align: top;\n",
       "    }\n",
       "\n",
       "    .dataframe thead th {\n",
       "        text-align: right;\n",
       "    }\n",
       "</style>\n",
       "<table border=\"1\" class=\"dataframe\">\n",
       "  <thead>\n",
       "    <tr style=\"text-align: right;\">\n",
       "      <th></th>\n",
       "      <th>0</th>\n",
       "      <th>1</th>\n",
       "    </tr>\n",
       "  </thead>\n",
       "  <tbody>\n",
       "    <tr>\n",
       "      <th>0</th>\n",
       "      <td>49.931371</td>\n",
       "      <td>64.084850</td>\n",
       "    </tr>\n",
       "    <tr>\n",
       "      <th>1</th>\n",
       "      <td>-117.185283</td>\n",
       "      <td>16.600951</td>\n",
       "    </tr>\n",
       "    <tr>\n",
       "      <th>2</th>\n",
       "      <td>39.796220</td>\n",
       "      <td>-77.575799</td>\n",
       "    </tr>\n",
       "    <tr>\n",
       "      <th>3</th>\n",
       "      <td>-34.482660</td>\n",
       "      <td>-95.946399</td>\n",
       "    </tr>\n",
       "    <tr>\n",
       "      <th>4</th>\n",
       "      <td>203.824031</td>\n",
       "      <td>-90.500991</td>\n",
       "    </tr>\n",
       "    <tr>\n",
       "      <th>...</th>\n",
       "      <td>...</td>\n",
       "      <td>...</td>\n",
       "    </tr>\n",
       "    <tr>\n",
       "      <th>995</th>\n",
       "      <td>50.912037</td>\n",
       "      <td>-8.976950</td>\n",
       "    </tr>\n",
       "    <tr>\n",
       "      <th>996</th>\n",
       "      <td>-315.379294</td>\n",
       "      <td>-167.786199</td>\n",
       "    </tr>\n",
       "    <tr>\n",
       "      <th>997</th>\n",
       "      <td>45.760167</td>\n",
       "      <td>58.888402</td>\n",
       "    </tr>\n",
       "    <tr>\n",
       "      <th>998</th>\n",
       "      <td>135.211331</td>\n",
       "      <td>97.097782</td>\n",
       "    </tr>\n",
       "    <tr>\n",
       "      <th>999</th>\n",
       "      <td>174.685574</td>\n",
       "      <td>-29.411008</td>\n",
       "    </tr>\n",
       "  </tbody>\n",
       "</table>\n",
       "<p>1000 rows × 2 columns</p>\n",
       "</div>"
      ],
      "text/plain": [
       "              0           1\n",
       "0     49.931371   64.084850\n",
       "1   -117.185283   16.600951\n",
       "2     39.796220  -77.575799\n",
       "3    -34.482660  -95.946399\n",
       "4    203.824031  -90.500991\n",
       "..          ...         ...\n",
       "995   50.912037   -8.976950\n",
       "996 -315.379294 -167.786199\n",
       "997   45.760167   58.888402\n",
       "998  135.211331   97.097782\n",
       "999  174.685574  -29.411008\n",
       "\n",
       "[1000 rows x 2 columns]"
      ]
     },
     "execution_count": 4,
     "metadata": {},
     "output_type": "execute_result"
    }
   ],
   "source": [
    "pd.DataFrame(y)"
   ]
  },
  {
   "cell_type": "code",
   "execution_count": 5,
   "metadata": {},
   "outputs": [
    {
     "name": "stdout",
     "output_type": "stream",
     "text": [
      "[50.06781717 64.564973  ]\n"
     ]
    }
   ],
   "source": [
    "from sklearn.linear_model import LinearRegression\n",
    "model = LinearRegression()\n",
    "# fit model\n",
    "model.fit(X, y)\n",
    "# make a prediction\n",
    "row = [0.21947749, 0.32948997, 0.81560036, 0.440956, -0.0606303, -0.29257894, -0.2820059, -0.00290545, 0.96402263, 0.04992249]\n",
    "yhat = model.predict([row])\n",
    "# summarize prediction\n",
    "print(yhat[0])"
   ]
  },
  {
   "cell_type": "code",
   "execution_count": 6,
   "metadata": {},
   "outputs": [
    {
     "name": "stdout",
     "output_type": "stream",
     "text": [
      "[-11.73511093  52.78406297]\n"
     ]
    }
   ],
   "source": [
    "from sklearn.neighbors import KNeighborsRegressor\n",
    "model = KNeighborsRegressor()\n",
    "# fit model\n",
    "model.fit(X, y)\n",
    "# make a prediction\n",
    "row = [0.21947749, 0.32948997, 0.81560036, 0.440956, -0.0606303, -0.29257894, -0.2820059, -0.00290545, 0.96402263, 0.04992249]\n",
    "yhat = model.predict([row])\n",
    "# summarize prediction\n",
    "print(yhat[0])"
   ]
  },
  {
   "cell_type": "code",
   "execution_count": 7,
   "metadata": {},
   "outputs": [
    {
     "name": "stdout",
     "output_type": "stream",
     "text": [
      "[49.93137149 64.08484989]\n"
     ]
    }
   ],
   "source": [
    "from sklearn.tree import DecisionTreeRegressor\n",
    "model = DecisionTreeRegressor()\n",
    "# fit model\n",
    "model.fit(X, y)\n",
    "# make a prediction\n",
    "row = [0.21947749, 0.32948997, 0.81560036, 0.440956, -0.0606303, -0.29257894, -0.2820059, -0.00290545, 0.96402263, 0.04992249]\n",
    "yhat = model.predict([row])\n",
    "# summarize prediction\n",
    "print(yhat[0])"
   ]
  },
  {
   "cell_type": "code",
   "execution_count": 8,
   "metadata": {},
   "outputs": [
    {
     "name": "stdout",
     "output_type": "stream",
     "text": [
      "MAE: 52.283 (3.115)\n"
     ]
    }
   ],
   "source": [
    "# evaluate multioutput regression model with k-fold cross-validation\n",
    "from numpy import absolute\n",
    "from numpy import mean\n",
    "from numpy import std\n",
    "from sklearn.tree import DecisionTreeRegressor\n",
    "from sklearn.model_selection import cross_val_score\n",
    "from sklearn.model_selection import RepeatedKFold\n",
    "\n",
    "# define model\n",
    "model = DecisionTreeRegressor()\n",
    "# define the evaluation procedure\n",
    "cv = RepeatedKFold(n_splits=10, n_repeats=3, random_state=1)\n",
    "# evaluate the model and collect the scores\n",
    "n_scores = cross_val_score(model, X, y, scoring='neg_mean_absolute_error', cv=cv, n_jobs=-1)\n",
    "# force the scores to be positive\n",
    "n_scores = absolute(n_scores)\n",
    "# summarize performance\n",
    "print('MAE: %.3f (%.3f)' % (mean(n_scores), std(n_scores)))"
   ]
  },
  {
   "cell_type": "code",
   "execution_count": 9,
   "metadata": {},
   "outputs": [
    {
     "name": "stdout",
     "output_type": "stream",
     "text": [
      "[49.93137149 64.08484989]\n"
     ]
    }
   ],
   "source": [
    "model.fit(X,y)\n",
    "row = [0.21947749, 0.32948997, 0.81560036, 0.440956, -0.0606303, -0.29257894, -0.2820059, -0.00290545, 0.96402263, 0.04992249]\n",
    "yhat = model.predict([row])\n",
    "# summarize prediction\n",
    "print(yhat[0])"
   ]
  },
  {
   "attachments": {},
   "cell_type": "markdown",
   "metadata": {},
   "source": [
    "Direct Multioutput: Develop an independent model for each numerical value to be predicted.\n"
   ]
  },
  {
   "cell_type": "code",
   "execution_count": 10,
   "metadata": {},
   "outputs": [
    {
     "name": "stdout",
     "output_type": "stream",
     "text": [
      "MAE: 0.419 (0.024)\n"
     ]
    }
   ],
   "source": [
    "from numpy import mean\n",
    "from numpy import std\n",
    "from numpy import absolute\n",
    "from sklearn.datasets import make_regression\n",
    "from sklearn.model_selection import cross_val_score\n",
    "from sklearn.model_selection import RepeatedKFold\n",
    "from sklearn.multioutput import MultiOutputRegressor\n",
    "from sklearn.svm import LinearSVR\n",
    "# define dataset\n",
    "X, y = make_regression(n_samples=1000, n_features=10, n_informative=5, n_targets=2, random_state=1, noise=0.5)\n",
    "# define base model\n",
    "model = LinearSVR()\n",
    "# define the direct multioutput wrapper model\n",
    "wrapper = MultiOutputRegressor(model)\n",
    "# define the evaluation procedure\n",
    "cv = RepeatedKFold(n_splits=10, n_repeats=3, random_state=1)\n",
    "# evaluate the model and collect the scores\n",
    "n_scores = cross_val_score(wrapper, X, y, scoring='neg_mean_absolute_error', cv=cv, n_jobs=-1)\n",
    "# force the scores to be positive\n",
    "n_scores = absolute(n_scores)\n",
    "# summarize performance\n",
    "print('MAE: %.3f (%.3f)' % (mean(n_scores), std(n_scores)))"
   ]
  },
  {
   "cell_type": "code",
   "execution_count": 11,
   "metadata": {},
   "outputs": [
    {
     "name": "stdout",
     "output_type": "stream",
     "text": [
      "Predicted: [50.03864356 64.51903748]\n"
     ]
    }
   ],
   "source": [
    "wrapper.fit(X, y)\n",
    "# make a single prediction\n",
    "row = [0.21947749, 0.32948997, 0.81560036, 0.440956, -0.0606303, -0.29257894, -0.2820059, -0.00290545, 0.96402263, 0.04992249]\n",
    "yhat = wrapper.predict([row])\n",
    "# summarize the prediction\n",
    "print('Predicted: %s' % yhat[0])"
   ]
  },
  {
   "cell_type": "markdown",
   "metadata": {},
   "source": [
    " Chained Multioutput: Develop a sequence of dependent models to match the number of numerical values to be predicted."
   ]
  },
  {
   "cell_type": "code",
   "execution_count": 12,
   "metadata": {},
   "outputs": [
    {
     "name": "stdout",
     "output_type": "stream",
     "text": [
      "MAE: 0.599 (0.217)\n"
     ]
    }
   ],
   "source": [
    "# example of evaluating chained multioutput regression with an SVM model\n",
    "from numpy import mean\n",
    "from numpy import std\n",
    "from numpy import absolute\n",
    "from sklearn.datasets import make_regression\n",
    "from sklearn.model_selection import cross_val_score\n",
    "from sklearn.model_selection import RepeatedKFold\n",
    "from sklearn.multioutput import RegressorChain\n",
    "from sklearn.svm import LinearSVR\n",
    "# define dataset\n",
    "X, y = make_regression(n_samples=1000, n_features=10, n_informative=5, n_targets=2, random_state=1, noise=0.5)\n",
    "# define base model\n",
    "model = LinearSVR()\n",
    "# define the chained multioutput wrapper model\n",
    "wrapper = RegressorChain(model)\n",
    "# define the evaluation procedure\n",
    "cv = RepeatedKFold(n_splits=10, n_repeats=3, random_state=1)\n",
    "# evaluate the model and collect the scores\n",
    "n_scores = cross_val_score(wrapper, X, y, scoring='neg_mean_absolute_error', cv=cv, n_jobs=-1)\n",
    "# force the scores to be positive\n",
    "n_scores = absolute(n_scores)\n",
    "# summarize performance\n",
    "print('MAE: %.3f (%.3f)' % (mean(n_scores), std(n_scores)))"
   ]
  },
  {
   "cell_type": "code",
   "execution_count": 13,
   "metadata": {},
   "outputs": [
    {
     "name": "stdout",
     "output_type": "stream",
     "text": [
      "Predicted: [50.03792744 64.3426646 ]\n"
     ]
    },
    {
     "name": "stderr",
     "output_type": "stream",
     "text": [
      "c:\\Users\\kiran.franklin\\Anaconda3\\envs\\omics\\lib\\site-packages\\sklearn\\svm\\_base.py:1244: ConvergenceWarning: Liblinear failed to converge, increase the number of iterations.\n",
      "  warnings.warn(\n"
     ]
    },
    {
     "ename": "",
     "evalue": "",
     "output_type": "error",
     "traceback": [
      "\u001b[1;31mThe Kernel crashed while executing code in the the current cell or a previous cell. Please review the code in the cell(s) to identify a possible cause of the failure. Click <a href='https://aka.ms/vscodeJupyterKernelCrash'>here</a> for more info. View Jupyter <a href='command:jupyter.viewOutput'>log</a> for further details."
     ]
    }
   ],
   "source": [
    "wrapper.fit(X, y)\n",
    "# make a single prediction\n",
    "row = [0.21947749, 0.32948997, 0.81560036, 0.440956, -0.0606303, -0.29257894, -0.2820059, -0.00290545, 0.96402263, 0.04992249]\n",
    "yhat = wrapper.predict([row])\n",
    "# summarize the prediction\n",
    "print('Predicted: %s' % yhat[0])"
   ]
  },
  {
   "cell_type": "markdown",
   "metadata": {},
   "source": [
    "https://machinelearningmastery.com/multi-output-regression-models-with-python/"
   ]
  }
 ],
 "metadata": {
  "kernelspec": {
   "display_name": "omics",
   "language": "python",
   "name": "python3"
  },
  "language_info": {
   "codemirror_mode": {
    "name": "ipython",
    "version": 3
   },
   "file_extension": ".py",
   "mimetype": "text/x-python",
   "name": "python",
   "nbconvert_exporter": "python",
   "pygments_lexer": "ipython3",
   "version": "3.9.16"
  },
  "orig_nbformat": 4
 },
 "nbformat": 4,
 "nbformat_minor": 2
}
